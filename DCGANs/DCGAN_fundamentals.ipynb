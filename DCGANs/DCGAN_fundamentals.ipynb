{
  "nbformat": 4,
  "nbformat_minor": 0,
  "metadata": {
    "colab": {
      "provenance": [],
      "authorship_tag": "ABX9TyML/zuhQQfEs8Rlv4ZGbBM8",
      "include_colab_link": true
    },
    "kernelspec": {
      "name": "python3",
      "display_name": "Python 3"
    },
    "language_info": {
      "name": "python"
    }
  },
  "cells": [
    {
      "cell_type": "markdown",
      "metadata": {
        "id": "view-in-github",
        "colab_type": "text"
      },
      "source": [
        "<a href=\"https://colab.research.google.com/github/Priyo-prog/Generative-AI-Lessons/blob/main/DCGANs/DCGAN_fundamentals.ipynb\" target=\"_parent\"><img src=\"https://colab.research.google.com/assets/colab-badge.svg\" alt=\"Open In Colab\"/></a>"
      ]
    },
    {
      "cell_type": "markdown",
      "source": [
        "# **DCGAN - Deep Convolutional GANs**"
      ],
      "metadata": {
        "id": "zdfQb4EOD9BI"
      }
    },
    {
      "cell_type": "code",
      "source": [],
      "metadata": {
        "id": "8pEbCqW9EJf4"
      },
      "execution_count": null,
      "outputs": []
    }
  ]
}